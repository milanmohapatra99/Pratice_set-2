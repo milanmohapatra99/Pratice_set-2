{
 "cells": [
  {
   "cell_type": "code",
   "execution_count": 5,
   "id": "9349fa10",
   "metadata": {},
   "outputs": [
    {
     "name": "stdout",
     "output_type": "stream",
     "text": [
      "50\n"
     ]
    }
   ],
   "source": [
    "#w.a.p to calculate sum of 2 no \n",
    "def calculate_sum(data1, data2):\n",
    "    \n",
    "    result_sum=data1+data2\n",
    "    return result_sum\n",
    "\n",
    "result=calculate_sum(30,20)\n",
    "print(result)"
   ]
  },
  {
   "cell_type": "code",
   "execution_count": 4,
   "id": "59bca697",
   "metadata": {},
   "outputs": [
    {
     "name": "stdout",
     "output_type": "stream",
     "text": [
      "Select (F) or (C): F\n",
      "What is the temperature: 92\n",
      "92 degrees F is 33.333333333333336 degrees C\n"
     ]
    }
   ],
   "source": [
    "#w.a.p to calculate temperature in celcious to farnhite and viceversa\n",
    "def convert_temp(scale=None, source_temp=None):\n",
    "    if scale == \"F\":\n",
    "        return 'C', (source_temp - 32.0) * (5.0/9.0)\n",
    "    elif scale == \"C\":\n",
    "        return 'F', (source_temp * (9.0/5.0)) + 32.0\n",
    "    else:\n",
    "        print(\"Needs to be (F) or (C)!\")\n",
    "\n",
    "scale = input(\"Select (F) or (C): \" )\n",
    "source_temp = int(input(\"What is the temperature: \" ))\n",
    "s, m = convert_temp(scale, source_temp)\n",
    "print(source_temp, \"degrees\", scale, \"is\", m, \"degrees\", s)"
   ]
  },
  {
   "cell_type": "code",
   "execution_count": 1,
   "id": "c13dc9a1",
   "metadata": {},
   "outputs": [
    {
     "name": "stdout",
     "output_type": "stream",
     "text": [
      "Enter a number:-12\n",
      "no is mirror no\n"
     ]
    }
   ],
   "source": [
    "#w.a.p to print mirror no\n",
    "import math\n",
    "from math import sqrt\n",
    "def mirror():\n",
    "    \n",
    "    rev = 0\n",
    "    no = int(input(\"Enter a number:-\"))\n",
    "    s = no * no\n",
    "    while(s != 0):\n",
    "        dg = s % 10\n",
    "        rev = rev * 10 +dg\n",
    "        s = s // 10\n",
    "    s = sqrt(rev)\n",
    "    rev = 0\n",
    "    while(s != 0):\n",
    "        dg = s % 10\n",
    "        rev = rev * 10 +dg\n",
    "        s = s // 10\n",
    "    if(rev == no):\n",
    "        print(\"no is mirror no\")\n",
    "    else:\n",
    "        print(\"no is not mirror no\")\n",
    "mirror()"
   ]
  },
  {
   "cell_type": "code",
   "execution_count": null,
   "id": "77be0f9b",
   "metadata": {},
   "outputs": [],
   "source": []
  }
 ],
 "metadata": {
  "kernelspec": {
   "display_name": "Python 3 (ipykernel)",
   "language": "python",
   "name": "python3"
  },
  "language_info": {
   "codemirror_mode": {
    "name": "ipython",
    "version": 3
   },
   "file_extension": ".py",
   "mimetype": "text/x-python",
   "name": "python",
   "nbconvert_exporter": "python",
   "pygments_lexer": "ipython3",
   "version": "3.9.7"
  }
 },
 "nbformat": 4,
 "nbformat_minor": 5
}
